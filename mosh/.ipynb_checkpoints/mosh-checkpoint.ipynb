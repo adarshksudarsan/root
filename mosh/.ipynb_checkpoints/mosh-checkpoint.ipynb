{
 "cells": [
  {
   "cell_type": "markdown",
   "id": "88b2e556",
   "metadata": {},
   "source": [
    "# while else\n",
    "### Did you knoe  there is an else part for while loop in python ?\n",
    "It will work after all the iterations are completed , if we use break command \n",
    "in between else part is not executed.\n",
    "codes"
   ]
  },
  {
   "cell_type": "code",
   "execution_count": null,
   "id": "0252cb27",
   "metadata": {},
   "outputs": [],
   "source": [
    "# while loop\n",
    "k=0\n",
    "while k <= 5:\n",
    "    print(\"value of k= \",k)\n",
    "    k+=1\n",
    "    if k==2:\n",
    "        print(\"k =2 \")\n",
    "        break\n",
    "else:\n",
    "    print(\"else of while loop\")"
   ]
  },
  {
   "cell_type": "code",
   "execution_count": null,
   "id": "cb7e6e0d",
   "metadata": {},
   "outputs": [],
   "source": [
    "# exercise car start and stop\n",
    "command=\"\"\n",
    "started =False\n",
    "while True:\n",
    "    command=input(\">  \").lower()\n",
    "    if command == \"help\":\n",
    "        print(\"\"\"\"\n",
    "        start > to start the car\n",
    "        stop > to stop the car\n",
    "        quit > quit the game\n",
    "        \"\"\")\n",
    "    elif command == \"quit\":\n",
    "        print(\"you exited from the game\")\n",
    "        break\n",
    "    elif command == \"start\":\n",
    "        if started:\n",
    "            print(\"car already started\")\n",
    "        else:\n",
    "            print(\"car started\")\n",
    "            started =True\n",
    "    elif command == \"stop\": \n",
    "        if not started:\n",
    "            print(\"car already in stopped condition\")\n",
    "        else:\n",
    "            started = False\n",
    "            print(\"stopped the car\")\n",
    "    else :\n",
    "        print(\"unknown input\")\n",
    "\n",
    "t"
   ]
  },
  {
   "cell_type": "code",
   "execution_count": null,
   "id": "2f59f96f",
   "metadata": {},
   "outputs": [],
   "source": [
    "# for loops\n",
    "\n",
    "for item1 in \"python\":\n",
    "    print(item1)\n",
    "for item2 in [1,2,3,4,5]:\n",
    "    print(item2)\n",
    "    \n"
   ]
  },
  {
   "cell_type": "code",
   "execution_count": null,
   "id": "0bdc9f7a",
   "metadata": {},
   "outputs": [],
   "source": [
    "# range function\n",
    "\n",
    "for i in range(12):\n",
    "    print(i)\n"
   ]
  },
  {
   "cell_type": "code",
   "execution_count": null,
   "id": "03f7f011",
   "metadata": {},
   "outputs": [],
   "source": [
    "# draw f\n",
    "f_list = [5,2,5,2,2]\n",
    "for item in f_list:\n",
    "    print(\"x\" * item)"
   ]
  },
  {
   "cell_type": "code",
   "execution_count": null,
   "id": "fe345f2b",
   "metadata": {},
   "outputs": [],
   "source": [
    "#draw f as per mosh\n",
    "f_list = [5,2,5,2,2]\n",
    "for num_star in f_list:\n",
    "   \n",
    "    for x in range(num_star):\n",
    "        print(\"x\",end='')# set cursor to same point\n",
    "    print(\"\")"
   ]
  },
  {
   "cell_type": "code",
   "execution_count": null,
   "id": "3daef771",
   "metadata": {},
   "outputs": [],
   "source": [
    "#largest number in a list\n",
    "import random\n",
    "list1=random.sample(range(0, 10), 5)\n",
    "print(list1)\n",
    "#conventional methord\n",
    "max_value = list1[0]\n",
    "for item in list1:\n",
    "    if item >= max_value:\n",
    "        max_value=item\n",
    "print(\"largest number is \",max_value)        \n",
    "# methord1\n",
    "print(max(list1))\n",
    "#methord 2\n",
    "list1.sort()\n",
    "print(list1[-1])\n",
    "list1.sort(reverse=True)\n",
    "print(list1[0])\n",
    "\n"
   ]
  },
  {
   "cell_type": "markdown",
   "id": "060a590e",
   "metadata": {},
   "source": [
    "# list "
   ]
  },
  {
   "cell_type": "markdown",
   "id": "0897fc00",
   "metadata": {},
   "source": [
    "various tools used with list"
   ]
  },
  {
   "cell_type": "code",
   "execution_count": null,
   "id": "a0c3da26",
   "metadata": {},
   "outputs": [],
   "source": [
    "# import random\n",
    "# list2 = random.sample(range(1,10),5)\n",
    "list2 = [2,4,6,7,9,4,9]\n",
    "print(list2)\n",
    "\n",
    "# append\n",
    "print(\"appending\")\n",
    "list2.append(11)\n",
    "print(list2)\n",
    "\n",
    "# insert\n",
    "print(\"inserting 99 at index 1\")\n",
    "#if we give an index value that is greater than length of list it will\n",
    "#be appended.\n",
    "list2.insert(1,99)\n",
    "print(list2)\n",
    "\n",
    "#remove\n",
    "print(\"removing first 4 from list\")\n",
    "list2.remove(4)\n",
    "print(list2)\n",
    "\n",
    "# pop\n",
    "print(\"poping out the last item in list\")\n",
    "list2.pop()\n",
    "print(list2)\n",
    "\n",
    "# get index number\n",
    "print(\"get index number of first occurance of 9 in the list\")\n",
    "index=list2.index(9)\n",
    "print(\"index of number 9 is \",index)\n",
    "\n",
    "# using in operator to check the existance of an item\n",
    "print(\"check whether the item is in the list or not\")\n",
    "print(99 in list2)\n",
    "\n",
    "#number of occurances \n",
    "print(\"get number of occurance of 9 in the list\")\n",
    "count_9 = list2.count(9)\n",
    "print(\"number of 9's in the list = \",count_9)\n",
    "\n",
    "#sorting a list\n",
    "list2.sort()\n",
    "#by default it will sort in ascending order\n",
    "print(\"sorted list\\n\",list2)\n",
    "\n",
    "#reverse the list\n",
    "list2.reverse()\n",
    "print(\"reversed list\\n\",list2)\n",
    "\n",
    "#create a copy of list \n",
    "list2_copy = list2.copy()\n",
    "print(\"copy of list2\")\n",
    "\n",
    "#clear a list\n",
    "list2_copy.clear()\n",
    "print(\"list2_copy = \",list2_copy)"
   ]
  },
  {
   "cell_type": "code",
   "execution_count": null,
   "id": "6ea0843a",
   "metadata": {},
   "outputs": [],
   "source": [
    "# find duplicates in a list\n",
    "\n",
    "list3 = [1,4,9,3,2,1,9,7]\n",
    "unique = []\n",
    "for i in list3:\n",
    "    if i not in unique:\n",
    "        unique.append(i)\n",
    "print(\"list3 =\",list3)\n",
    "print(\"removed duplicates \\n\",unique)"
   ]
  },
  {
   "cell_type": "markdown",
   "id": "2393ff87",
   "metadata": {},
   "source": [
    "# tuples"
   ]
  },
  {
   "cell_type": "markdown",
   "id": "a1441719",
   "metadata": {},
   "source": [
    "similar to list but immutable we can't append or add or modify tuples\n",
    "unlike list here we have only 2 options index and count with tuples.\n"
   ]
  },
  {
   "cell_type": "code",
   "execution_count": null,
   "id": "6e0b2c17",
   "metadata": {},
   "outputs": [],
   "source": [
    "tuple1 = (1,3,5,7)\n",
    "#it shows error if we try to modify tuples\n",
    "tuple1[0] = 30\n",
    "print(tuple1)"
   ]
  },
  {
   "cell_type": "markdown",
   "id": "4d552e27",
   "metadata": {},
   "source": [
    "# unpacking\n",
    "its a special feature of python where we can asign values from a list of tuple to variables in a shortcut manner"
   ]
  },
  {
   "cell_type": "code",
   "execution_count": null,
   "id": "790d3002",
   "metadata": {},
   "outputs": [],
   "source": [
    "list4 = [1,2,3]\n",
    "x, y, z = list4\n",
    "#means x=1,y=2,z=3\n",
    "print(\"(x,y,z) =\",f\"({x},{y},{z})\")"
   ]
  },
  {
   "cell_type": "markdown",
   "id": "5a16714f",
   "metadata": {},
   "source": [
    "# dictionaty in python\n",
    "defined by curly barckets {}\n",
    "it should have a key and corresponding key value\n",
    "can be accessed using square brackets [] as in python or by using \".get()\""
   ]
  },
  {
   "cell_type": "code",
   "execution_count": null,
   "id": "58db1aa4",
   "metadata": {},
   "outputs": [],
   "source": [
    "# phone number to words using dictionarty\n",
    "number = input(\"enter your phone number\")\n",
    "print(number)\n",
    "word = { \"1\":\"one\",\"2\":\"two\",\"3\":\"three\",\"4\":\"four\"}\n",
    "for i in number:\n",
    "    #print(word[i],end=\" \") we can use this also but if user enter anything other than the dictionary key \n",
    "    # it will throw error\n",
    "    #print(word.get(i),end = \"\") this will show none if key is not recognized \n",
    "    print(word.get(i,\"!\"),end = \" \")#this will show ! instead of None"
   ]
  },
  {
   "cell_type": "code",
   "execution_count": 32,
   "id": "785552e2",
   "metadata": {},
   "outputs": [
    {
     "ename": "KeyboardInterrupt",
     "evalue": "Interrupted by user",
     "output_type": "error",
     "traceback": [
      "\u001b[0;31m---------------------------------------------------------------------------\u001b[0m",
      "\u001b[0;31mKeyboardInterrupt\u001b[0m                         Traceback (most recent call last)",
      "\u001b[0;32m<ipython-input-32-4a5cc2724631>\u001b[0m in \u001b[0;36m<module>\u001b[0;34m\u001b[0m\n\u001b[1;32m      1\u001b[0m \u001b[0;31m# my work\u001b[0m\u001b[0;34m\u001b[0m\u001b[0;34m\u001b[0m\u001b[0;34m\u001b[0m\u001b[0m\n\u001b[0;32m----> 2\u001b[0;31m \u001b[0mtxt\u001b[0m \u001b[0;34m=\u001b[0m \u001b[0minput\u001b[0m\u001b[0;34m(\u001b[0m\u001b[0;34m\"enter your text >\"\u001b[0m\u001b[0;34m)\u001b[0m\u001b[0;34m\u001b[0m\u001b[0;34m\u001b[0m\u001b[0m\n\u001b[0m\u001b[1;32m      3\u001b[0m \u001b[0mwords\u001b[0m \u001b[0;34m=\u001b[0m \u001b[0mtxt\u001b[0m\u001b[0;34m.\u001b[0m\u001b[0msplit\u001b[0m\u001b[0;34m(\u001b[0m\u001b[0;34m\" \"\u001b[0m\u001b[0;34m)\u001b[0m\u001b[0;34m\u001b[0m\u001b[0;34m\u001b[0m\u001b[0m\n\u001b[1;32m      4\u001b[0m \u001b[0mfinal_sentence\u001b[0m \u001b[0;34m=\u001b[0m \u001b[0;34m\"\"\u001b[0m\u001b[0;34m\u001b[0m\u001b[0;34m\u001b[0m\u001b[0m\n\u001b[1;32m      5\u001b[0m emoji={\":)\":\"😀\",\n",
      "\u001b[0;32m~/AI_ML/anaconda3/envs/doit/lib/python3.6/site-packages/ipykernel/kernelbase.py\u001b[0m in \u001b[0;36mraw_input\u001b[0;34m(self, prompt)\u001b[0m\n\u001b[1;32m    861\u001b[0m             \u001b[0mself\u001b[0m\u001b[0;34m.\u001b[0m\u001b[0m_parent_ident\u001b[0m\u001b[0;34m,\u001b[0m\u001b[0;34m\u001b[0m\u001b[0;34m\u001b[0m\u001b[0m\n\u001b[1;32m    862\u001b[0m             \u001b[0mself\u001b[0m\u001b[0;34m.\u001b[0m\u001b[0m_parent_header\u001b[0m\u001b[0;34m,\u001b[0m\u001b[0;34m\u001b[0m\u001b[0;34m\u001b[0m\u001b[0m\n\u001b[0;32m--> 863\u001b[0;31m             \u001b[0mpassword\u001b[0m\u001b[0;34m=\u001b[0m\u001b[0;32mFalse\u001b[0m\u001b[0;34m,\u001b[0m\u001b[0;34m\u001b[0m\u001b[0;34m\u001b[0m\u001b[0m\n\u001b[0m\u001b[1;32m    864\u001b[0m         )\n\u001b[1;32m    865\u001b[0m \u001b[0;34m\u001b[0m\u001b[0m\n",
      "\u001b[0;32m~/AI_ML/anaconda3/envs/doit/lib/python3.6/site-packages/ipykernel/kernelbase.py\u001b[0m in \u001b[0;36m_input_request\u001b[0;34m(self, prompt, ident, parent, password)\u001b[0m\n\u001b[1;32m    902\u001b[0m             \u001b[0;32mexcept\u001b[0m \u001b[0mKeyboardInterrupt\u001b[0m\u001b[0;34m:\u001b[0m\u001b[0;34m\u001b[0m\u001b[0;34m\u001b[0m\u001b[0m\n\u001b[1;32m    903\u001b[0m                 \u001b[0;31m# re-raise KeyboardInterrupt, to truncate traceback\u001b[0m\u001b[0;34m\u001b[0m\u001b[0;34m\u001b[0m\u001b[0;34m\u001b[0m\u001b[0m\n\u001b[0;32m--> 904\u001b[0;31m                 \u001b[0;32mraise\u001b[0m \u001b[0mKeyboardInterrupt\u001b[0m\u001b[0;34m(\u001b[0m\u001b[0;34m\"Interrupted by user\"\u001b[0m\u001b[0;34m)\u001b[0m \u001b[0;32mfrom\u001b[0m \u001b[0;32mNone\u001b[0m\u001b[0;34m\u001b[0m\u001b[0;34m\u001b[0m\u001b[0m\n\u001b[0m\u001b[1;32m    905\u001b[0m             \u001b[0;32mexcept\u001b[0m \u001b[0mException\u001b[0m \u001b[0;32mas\u001b[0m \u001b[0me\u001b[0m\u001b[0;34m:\u001b[0m\u001b[0;34m\u001b[0m\u001b[0;34m\u001b[0m\u001b[0m\n\u001b[1;32m    906\u001b[0m                 \u001b[0mself\u001b[0m\u001b[0;34m.\u001b[0m\u001b[0mlog\u001b[0m\u001b[0;34m.\u001b[0m\u001b[0mwarning\u001b[0m\u001b[0;34m(\u001b[0m\u001b[0;34m\"Invalid Message:\"\u001b[0m\u001b[0;34m,\u001b[0m \u001b[0mexc_info\u001b[0m\u001b[0;34m=\u001b[0m\u001b[0;32mTrue\u001b[0m\u001b[0;34m)\u001b[0m\u001b[0;34m\u001b[0m\u001b[0;34m\u001b[0m\u001b[0m\n",
      "\u001b[0;31mKeyboardInterrupt\u001b[0m: Interrupted by user"
     ]
    }
   ],
   "source": [
    "# my work\n",
    "txt = input(\"enter your text >\")\n",
    "words = txt.split(\" \")\n",
    "final_sentence = \"\"\n",
    "emoji={\":)\":\"😀\",\n",
    "       \":(\":\"☹️\"\n",
    "      }\n",
    "for item in words:\n",
    "    if item in emoji:\n",
    "        final_sentence += emoji.get(item) + \" \"\n",
    "        continue\n",
    "    final_sentence += item + \" \"\n",
    "print(final_sentence)"
   ]
  },
  {
   "cell_type": "code",
   "execution_count": 3,
   "id": "60ad30a5",
   "metadata": {},
   "outputs": [
    {
     "name": "stdout",
     "output_type": "stream",
     "text": [
      "enter your text >:(\n",
      "☹️ \n"
     ]
    }
   ],
   "source": [
    "#mosh's work\n",
    "txt = input(\"enter your text >\")\n",
    "words = txt.split(\" \")\n",
    "final_sentence = \"\"\n",
    "emoji={\":)\":\"😀\",\n",
    "       \":(\":\"☹️\"\n",
    "      }\n",
    "for item in words:\n",
    "    final_sentence += emoji.get(item,item) + \" \"\n",
    "print(final_sentence)    "
   ]
  },
  {
   "cell_type": "markdown",
   "id": "12d6cedc",
   "metadata": {},
   "source": [
    "# functions ,arguments ,parameters ,return values"
   ]
  },
  {
   "cell_type": "markdown",
   "id": "dd818736",
   "metadata": {},
   "source": [
    "arguments are actual values that we specify when calling function\n",
    ",but parameters are place holders for actual values\n",
    "python accepts arguments in 2 ways \n",
    "1) possitinal argument - by default\n",
    "\n",
    "2) keyword argument - if there are multiple numerical values it's prefered to use keyword argument \n",
    "    because it will improve readability.\n",
    "    if we are using both in a then first argument must be possitional and next all we can do keyword argument"
   ]
  },
  {
   "cell_type": "code",
   "execution_count": 8,
   "id": "abbd2160",
   "metadata": {},
   "outputs": [
    {
     "name": "stdout",
     "output_type": "stream",
     "text": [
      "Hi first third second ! \n"
     ]
    }
   ],
   "source": [
    "def test_function(first_name,second_name,third_name):\n",
    "    print(f'Hi {first_name} {second_name} {third_name} ! ')\n",
    "test_function(\"first\",third_name=\"second\",second_name=\"third\")"
   ]
  },
  {
   "cell_type": "markdown",
   "id": "18e68df0",
   "metadata": {},
   "source": [
    "# anticipate and manage errors"
   ]
  },
  {
   "cell_type": "markdown",
   "id": "f0482b34",
   "metadata": {},
   "source": [
    "if a python program run successfully it's exit code will be \"0\"\n",
    "common errors include ValueError ,ZeroDivisionError\n",
    "\n",
    "As a good programmer we should anticipate these kinds of error \n",
    "\n",
    "### use try except\n"
   ]
  },
  {
   "cell_type": "code",
   "execution_count": 16,
   "id": "805f61e0",
   "metadata": {},
   "outputs": [
    {
     "name": "stdout",
     "output_type": "stream",
     "text": [
      "enter your age > 0\n",
      "input cant be Zero\n"
     ]
    }
   ],
   "source": [
    "try:\n",
    "    age = int(input(\"enter your age > \"))\n",
    "    print (1000/age)\n",
    "except ValueError:\n",
    "    print(\"Invalid Entry\")\n",
    "except ZeroDivisionError:\n",
    "    print(\"input cant be Zero\")\n",
    "\n"
   ]
  },
  {
   "cell_type": "markdown",
   "id": "90aa388b",
   "metadata": {},
   "source": [
    "# classes"
   ]
  },
  {
   "cell_type": "markdown",
   "id": "8a376e03",
   "metadata": {},
   "source": [
    "Classes make a blueprint for objects and objects are the instances of class\n",
    "\n",
    "As per convention first letter of class will be capital if there are multiple words capitalize each first letters of words.\n"
   ]
  },
  {
   "cell_type": "code",
   "execution_count": 47,
   "id": "71327ee6",
   "metadata": {},
   "outputs": [
    {
     "name": "stdout",
     "output_type": "stream",
     "text": [
      "kill\n",
      "199\n"
     ]
    }
   ],
   "source": [
    "class TestClass:\n",
    "    def draw():\n",
    "        print(\"draw\")\n",
    "    def kill(self):\n",
    "        print(\"kill\")\n",
    "object1 = TestClass()\n",
    "object1.kill() \n",
    "# we can also add attributes for each objects like variable as shown below\n",
    "object1.variable1 = 199\n",
    "print(object1.variable1)"
   ]
  },
  {
   "cell_type": "markdown",
   "id": "fd9717b4",
   "metadata": {},
   "source": [
    "# constructor"
   ]
  },
  {
   "cell_type": "code",
   "execution_count": 44,
   "id": "b388f607",
   "metadata": {},
   "outputs": [
    {
     "name": "stdout",
     "output_type": "stream",
     "text": [
      "kill\n",
      "points are (12,90)\n",
      "199\n"
     ]
    }
   ],
   "source": [
    "class TestClass:\n",
    "    #constructor\n",
    "    def __init__(self,x_cord,y_cord):\n",
    "        self.x = x_cord\n",
    "        self.y = y_cord\n",
    "    def draw(self):\n",
    "        print(f\"points are ({self.x},{self.y})\")\n",
    "    def kill(self):\n",
    "        print(\"kill\")\n",
    "object1 = TestClass(12,90)\n",
    "object1.kill()\n",
    "object1.draw()\n",
    "# we can also add attributes for each objects like variable as shown below\n",
    "object1.variable1 = 199\n",
    "print(object1.variable1)"
   ]
  },
  {
   "cell_type": "markdown",
   "id": "febd2f1c",
   "metadata": {},
   "source": [
    "# error\n",
    "---\n",
    "```\n",
    "class Laptop:\n",
    "\tdef details():\n",
    "\t\tprint('Hello! I am a laptop.')\n",
    "\n",
    "laptop1 = Laptop()\n",
    "laptop1.details()\n",
    "```\n",
    "---\n",
    " ### Output\n",
    "\n",
    "```\n",
    "Traceback (most recent call last):\n",
    "  File \"example1.py\", line 6, in <module>\n",
    "    laptop1.details()\n",
    "TypeError: details() takes 0 positional arguments but 1 was given\n",
    "\n",
    "```\n",
    "---\n",
    "You might be wondering that you have not passed any arguments when you called details() method on the laptop1 object. But, why Python is throwing the TypeError?\n",
    "\n",
    "---\n",
    "Here is why. By default, if the method is not a static python method, then implicitly the object (self) is passed as argument. So, when you called laptop1.details(), it is actually being called as laptop1.details(laptop1)."
   ]
  },
  {
   "cell_type": "markdown",
   "id": "2ae34fbf",
   "metadata": {},
   "source": [
    "## INHERITANCE IN PYTHON"
   ]
  },
  {
   "cell_type": "code",
   "execution_count": 20,
   "id": "e06bfda4",
   "metadata": {},
   "outputs": [
    {
     "name": "stdout",
     "output_type": "stream",
     "text": [
      "walk\n"
     ]
    }
   ],
   "source": [
    "class Animal:\n",
    "    def walk(self):\n",
    "        print(\"walk\")\n",
    "class Cat(Animal):# this means all the methords of Animal class is inherited to Cat class.\n",
    "    def meow(self):\n",
    "        print(\"meow\")\n",
    "object2 = Cat()     \n",
    "object2.walk()\n",
    "    "
   ]
  },
  {
   "cell_type": "markdown",
   "id": "1f2c829a",
   "metadata": {},
   "source": [
    "# dice roll using tuple and class"
   ]
  },
  {
   "cell_type": "code",
   "execution_count": 23,
   "id": "adbfed06",
   "metadata": {},
   "outputs": [
    {
     "name": "stdout",
     "output_type": "stream",
     "text": [
      "4\n",
      "(1, 3)\n"
     ]
    }
   ],
   "source": [
    "import random\n",
    "class Dice:\n",
    "    def __init__(self):\n",
    "        self.numbers = [1, 2, 3, 4, 5, 6]\n",
    "        print(random.choice(numbers))\n",
    "    def roll(self):\n",
    "        number_tuple = (random.choice(self.numbers),random.choice(self.numbers))\n",
    "        print(number_tuple)\n",
    "\n",
    "object_dice = Dice()\n",
    "object_dice.roll()\n"
   ]
  },
  {
   "cell_type": "markdown",
   "id": "ce63f6da",
   "metadata": {},
   "source": [
    "# dice roll mosh"
   ]
  },
  {
   "cell_type": "code",
   "execution_count": 26,
   "id": "046e6cbd",
   "metadata": {},
   "outputs": [
    {
     "data": {
      "text/plain": [
       "(3, 4)"
      ]
     },
     "execution_count": 26,
     "metadata": {},
     "output_type": "execute_result"
    }
   ],
   "source": [
    "import random\n",
    "class Dice:\n",
    "    def roll(self):\n",
    "        # we don't need to specify tuples in brackets ,by default python will take it as tuples\n",
    "        return random.randint(1,6),random.randint(1,6)\n",
    "    \n",
    "\n",
    "object_dice = Dice()\n",
    "object_dice.roll()\n"
   ]
  },
  {
   "cell_type": "markdown",
   "id": "e504fc61",
   "metadata": {},
   "source": [
    "# directories pathlib"
   ]
  },
  {
   "cell_type": "code",
   "execution_count": 40,
   "id": "e18d1615",
   "metadata": {},
   "outputs": [
    {
     "name": "stdout",
     "output_type": "stream",
     "text": [
      "False\n"
     ]
    }
   ],
   "source": [
    "from pathlib import Path # here path is a class\n",
    "path = Path(\"test_directory\")\n",
    "#return boolean \n",
    "print(path.exists())\n",
    "#create a directory with name test_directory\n",
    "if not path.exists():\n",
    "    path.mkdir()\n",
    "# to remove the same directory\n",
    "#path.rmdir()"
   ]
  },
  {
   "cell_type": "markdown",
   "id": "dd68ab06",
   "metadata": {},
   "source": [
    "# using glob methord"
   ]
  },
  {
   "cell_type": "code",
   "execution_count": 44,
   "id": "ccdf3a7b",
   "metadata": {},
   "outputs": [
    {
     "name": "stdout",
     "output_type": "stream",
     "text": [
      "mosh.ipynb\n",
      ".ipynb_checkpoints\n",
      "test_directory\n",
      "__pycache__\n",
      ".idea\n",
      "main.py\n",
      "utils.py\n",
      "____________________\n",
      "mosh.ipynb\n",
      ".ipynb_checkpoints\n",
      ".idea\n",
      "main.py\n",
      "utils.py\n",
      "____________________\n",
      "main.py\n",
      "utils.py\n",
      "____________________\n"
     ]
    }
   ],
   "source": [
    "from pathlib import Path # here path is a class\n",
    "path1 = Path()# no argument implies current directory\n",
    "# this will print everything inside that directory * means everything\n",
    "for file in path1.glob(\"*\"):\n",
    "    print(file)\n",
    "print(\"_\"*20)\n",
    "# to print only the files just modify the pattern\n",
    "for file in path1.glob(\"*.*\"):\n",
    "    print(file)\n",
    "print(\"_\"*20)\n",
    "\n",
    "# to print only some specific files with .py extension\n",
    "for file in path1.glob(\"*.py\"):\n",
    "    print(file)\n",
    "print(\"_\"*20)\n"
   ]
  }
 ],
 "metadata": {
  "kernelspec": {
   "display_name": "Python 3",
   "language": "python",
   "name": "python3"
  },
  "language_info": {
   "codemirror_mode": {
    "name": "ipython",
    "version": 3
   },
   "file_extension": ".py",
   "mimetype": "text/x-python",
   "name": "python",
   "nbconvert_exporter": "python",
   "pygments_lexer": "ipython3",
   "version": "3.6.12"
  }
 },
 "nbformat": 4,
 "nbformat_minor": 5
}
